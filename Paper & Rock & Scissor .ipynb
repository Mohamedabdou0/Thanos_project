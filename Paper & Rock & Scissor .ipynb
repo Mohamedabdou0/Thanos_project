{
 "cells": [
  {
   "cell_type": "code",
   "execution_count": 3,
   "metadata": {},
   "outputs": [
    {
     "name": "stdout",
     "output_type": "stream",
     "text": [
      "The rules of game \n",
      "winning rules of the Rock ,Paper and Scissor :\n",
      "Rock vs Paper ---> Paper Win \n",
      "Rock vs Scissor ---> Rock win \n",
      "Scissor Vs Paper ---> Scissor win \n",
      "\n",
      "Enter choice: \n",
      " 1 for Rock\n",
      " 2 for Paper \n",
      " 3 for Scissor \n",
      "\n",
      "User turn : 2\n",
      "Your choice :  Paper\n",
      "computer choice :  Scissor\n",
      "computer wins\n"
     ]
    }
   ],
   "source": [
    "import random \n",
    "\n",
    "print('The rules of game \\nwinning rules of the Rock ,Paper and Scissor :\\n'\n",
    "     +'Rock vs Paper ---> Paper Win \\n'+'Rock vs Scissor ---> Rock win \\n'\n",
    "      +'Scissor Vs Paper ---> Scissor win \\n')\n",
    "\n",
    "\n",
    "\n",
    "print('Enter choice: \\n 1 for Rock\\n 2 for Paper \\n 3 for Scissor \\n')\n",
    "\n",
    "\n",
    "choice_dic = {1:'Rock',2:'Paper',3:'Scissor'}\n",
    "user_ch = int(input('User turn : '))\n",
    "comp_ch = random.randint(1, 3)\n",
    "print('Your choice : ',choice_dic[user_ch])\n",
    "print('computer choice : ',choice_dic[comp_ch])\n",
    "\n",
    "\n",
    "if ((user_ch == 1 and comp_ch==2) or (user_ch == 2 and comp_ch==1)):\n",
    "    result = 'Paper'\n",
    "elif ((user_ch == 1 and comp_ch==3) or (user_ch == 3 and comp_ch==1)):\n",
    "    result = 'Rock'\n",
    "else:\n",
    "    result = 'Scissor'\n",
    "    \n",
    "    \n",
    "if result == choice_dic[user_ch]:\n",
    "    print('User wins')\n",
    "else:\n",
    "    print('computer wins')"
   ]
  }
 ],
 "metadata": {
  "kernelspec": {
   "display_name": "Python 3",
   "language": "python",
   "name": "python3"
  },
  "language_info": {
   "codemirror_mode": {
    "name": "ipython",
    "version": 3
   },
   "file_extension": ".py",
   "mimetype": "text/x-python",
   "name": "python",
   "nbconvert_exporter": "python",
   "pygments_lexer": "ipython3",
   "version": "3.7.6"
  }
 },
 "nbformat": 4,
 "nbformat_minor": 4
}
