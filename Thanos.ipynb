{
 "cells": [
  {
   "cell_type": "code",
   "execution_count": 21,
   "metadata": {},
   "outputs": [
    {
     "name": "stdout",
     "output_type": "stream",
     "text": [
      "Destroying:cover003.png\n",
      "Destroying:cover033.png\n",
      "Destroying:cover031.png\n",
      "Destroying:cover001.png\n",
      "Destroying:cover043.png\n",
      "Destroying:cover009.png\n",
      "Destroying:cover008.png\n",
      "Destroying:cover024.png\n",
      "Destroying:cover014.png\n",
      "Destroying:cover002.png\n",
      "Destroying:cover023.png\n",
      "Destroying:cover005.png\n",
      "Destroying:cover022.png\n",
      "Destroying:cover007.png\n",
      "Destroying:cover028.png\n",
      "Destroying:cover006.png\n",
      "Destroying:cover048.png\n",
      "Destroying:cover038.png\n",
      "Destroying:cover034.png\n",
      "Destroying:cover026.png\n",
      "Destroying:cover044.png\n",
      "Destroying:cover032.png\n",
      "Destroying:cover027.png\n",
      "Destroying:cover010.png\n",
      "Destroying:cover016.png\n"
     ]
    }
   ],
   "source": [
    "import time\n",
    "import random\n",
    "import os \n",
    "def Thanos(universe):\n",
    "    half = len(universe)//2\n",
    "    for i in range (half):\n",
    "        # universe = os.listdir(\"D:\\GIS\\Data science\\Solutions\\universe\")\n",
    "        universe = os.listdir('d:\\\\GIS\\\\Data science\\\\Solutions\\\\universe')\n",
    "        random_victim = random.choice(universe)\n",
    "        os.remove(f\"Universe/{random_victim}\")\n",
    "        time.sleep(1)\n",
    "        print(f\"Destroying:{random_victim}\")\n",
    "\n",
    "\n",
    "Thanos(universe)        "
   ]
  }
 ],
 "metadata": {
  "kernelspec": {
   "display_name": "Python 3.9.13 64-bit (windows store)",
   "language": "python",
   "name": "python3"
  },
  "language_info": {
   "codemirror_mode": {
    "name": "ipython",
    "version": 3
   },
   "file_extension": ".py",
   "mimetype": "text/x-python",
   "name": "python",
   "nbconvert_exporter": "python",
   "pygments_lexer": "ipython3",
   "version": "3.9.13"
  },
  "orig_nbformat": 4,
  "vscode": {
   "interpreter": {
    "hash": "867294b21a7c3cb58c20225ed3e995a52c727c3dca5af5ebcae6bfef49c34ef9"
   }
  }
 },
 "nbformat": 4,
 "nbformat_minor": 2
}
